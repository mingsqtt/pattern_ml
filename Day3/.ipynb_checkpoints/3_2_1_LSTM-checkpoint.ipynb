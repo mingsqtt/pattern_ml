{
 "cells": [
  {
   "cell_type": "code",
   "execution_count": 52,
   "metadata": {},
   "outputs": [],
   "source": [
    "import h5py\n",
    "import numpy as np\n",
    "import sklearn.metrics as metrics\n",
    "import matplotlib.pyplot as plt\n",
    "\n",
    "import os\n",
    "\n",
    "from tensorflow.keras.callbacks import ModelCheckpoint,CSVLogger\n",
    "from tensorflow.keras.models import Model\n",
    "from tensorflow.keras.layers import Input\n",
    "from tensorflow.keras.layers import LSTM\n",
    "from tensorflow.keras.layers import Dense"
   ]
  },
  {
   "cell_type": "code",
   "execution_count": 53,
   "metadata": {},
   "outputs": [],
   "source": [
    "# Set up 'ggplot' style\n",
    "plt.style.use('ggplot')     # if want to use the default style, set 'classic'\n",
    "plt.rcParams['ytick.right']     = True\n",
    "plt.rcParams['ytick.labelright']= True\n",
    "plt.rcParams['ytick.left']      = False\n",
    "plt.rcParams['ytick.labelleft'] = False\n",
    "plt.rcParams['font.family']     = 'Arial'"
   ]
  },
  {
   "cell_type": "code",
   "execution_count": 54,
   "metadata": {},
   "outputs": [],
   "source": [
    "# Retrieve data  --------------------------------------------------------------\n",
    "\n",
    "os.chdir(\"D:/projects/pattern_ml/Day3/\")\n",
    "\n",
    "seed = 7\n",
    "np.random.seed(seed)\n",
    "\n",
    "f                   = h5py.File('data/cad5sec.mat')"
   ]
  },
  {
   "cell_type": "code",
   "execution_count": 55,
   "metadata": {},
   "outputs": [],
   "source": [
    "X = f[\"data\"]       # shape: (1285, 38120)\n",
    "Y = f[\"classLabel\"] # shape: (1, 38120)"
   ]
  },
  {
   "cell_type": "code",
   "execution_count": 56,
   "metadata": {},
   "outputs": [
    {
     "name": "stdout",
     "output_type": "stream",
     "text": [
      "[0. 1.]\n"
     ]
    }
   ],
   "source": [
    "print(np.unique(Y))"
   ]
  },
  {
   "cell_type": "code",
   "execution_count": 57,
   "metadata": {},
   "outputs": [
    {
     "name": "stdout",
     "output_type": "stream",
     "text": [
      "(38120, 1285)\n"
     ]
    }
   ],
   "source": [
    "inputs = np.array(X).transpose()  # shape: (38120, 1285)\n",
    "labels = np.array(Y).transpose()   # shape: (38120, 1)\n",
    "print(inputs.shape)"
   ]
  },
  {
   "cell_type": "code",
   "execution_count": 58,
   "metadata": {},
   "outputs": [
    {
     "name": "stdout",
     "output_type": "stream",
     "text": [
      "(32000, 1285)\n",
      "(6120, 1285)\n"
     ]
    }
   ],
   "source": [
    "nor = inputs[Y[0] == 0.0]\n",
    "cad = inputs[Y[0] == 1.0]\n",
    "print(nor.shape)\n",
    "print(cad.shape)"
   ]
  },
  {
   "cell_type": "code",
   "execution_count": 59,
   "metadata": {},
   "outputs": [],
   "source": [
    "# stepzation function ---------------------------------------------------------\n",
    "#\n",
    "#\n",
    "# This function creates segmenets of a 1D signal\n",
    "# It works in batch\n",
    "#\n",
    "#\n",
    "# Dependency:       numpy\n",
    "\n",
    "def makeSteps(dat, length, dist):\n",
    "    width           = dat.shape[1]\n",
    "    numOfSteps      = int(np.floor((width-length)/dist)+1)\n",
    "    \n",
    "                                        # Initialize the output\n",
    "    segments        = np.zeros([dat.shape[0],numOfSteps,length],\n",
    "                               dtype=dat.dtype)\n",
    "    \n",
    "    for l in range(numOfSteps):\n",
    "        segments[:,l,:]     = dat[:,(l*dist):(l*dist+length)]\n",
    "        \n",
    "    return segments"
   ]
  },
  {
   "cell_type": "code",
   "execution_count": 60,
   "metadata": {},
   "outputs": [
    {
     "name": "stdout",
     "output_type": "stream",
     "text": [
      "Create dataset (1D signal data)...\n"
     ]
    }
   ],
   "source": [
    "# Splitting data into training and testing set---------------------------------\n",
    "#\n",
    "#\n",
    "#\n",
    "\n",
    "print('Create dataset (1D signal data)...')\n",
    "train_nor = nor[0:28800].copy()\n",
    "test_nor = nor[28800:32000].copy()\n",
    "train_cad = cad[0:5000].copy()\n",
    "test_cad = cad[5000:6120].copy()"
   ]
  },
  {
   "cell_type": "code",
   "execution_count": null,
   "metadata": {},
   "outputs": [],
   "source": [
    "# Create segments from the signals --------------------------------------------\n",
    "#\n",
    "#\n",
    "#\n",
    "\n",
    "seq_dim = 36\n",
    "stride = 24\n",
    "\n",
    "print('Finalizing all the data ....')\n",
    "train_nor_seqs = makeSteps(train_nor, seq_dim, stride)\n",
    "test_nor_seqs = makeSteps(test_nor, seq_dim, stride)\n",
    "train_cad_seqs = makeSteps(train_cad, seq_dim, stride)\n",
    "test_cad_seqs = makeSteps(test_cad, seq_dim, stride)\n",
    "\n",
    "train_data = np.vstack([train_nor_seqs,train_cad_seqs])\n",
    "test_data = np.vstack([test_nor_seqs,test_cad_seqs])\n",
    "\n",
    "train_labels = np.vstack([np.zeros([train_nor_seqs.shape[0],1]), np.ones([train_cad_seqs.shape[0],1])])\n",
    "test_labels = np.vstack([np.zeros([test_nor_seqs.shape[0],1]), np.ones([test_cad_seqs.shape[0],1])])"
   ]
  },
  {
   "cell_type": "code",
   "execution_count": null,
   "metadata": {},
   "outputs": [],
   "source": [
    "train_data.shape  # (n_sample, seq_len, seq_dim)"
   ]
  },
  {
   "cell_type": "code",
   "execution_count": 63,
   "metadata": {},
   "outputs": [
    {
     "name": "stdout",
     "output_type": "stream",
     "text": [
      "Creating lstm model...\n"
     ]
    }
   ],
   "source": [
    "# Creating model --------------------------------------------------------------\n",
    "#\n",
    "#\n",
    "#\n",
    "\n",
    "\n",
    "print('Creating lstm model...')\n",
    "\n",
    "modelname   = 'wks3_2_1'\n",
    "\n",
    "def createModel():    \n",
    "#    model          = Sequential()\n",
    "#    model.add(LSTM(32, input_shape=(trDat.shape[1], length), \n",
    "#                   return_sequences=True, \n",
    "#                   dropout=0.25, \n",
    "#                   recurrent_dropout=0.25)) \n",
    "#    model.add(LSTM(32, return_sequences=True, dropout=0.5, recurrent_dropout=0.25))             \n",
    "#    model.add(LSTM(32, return_sequences=True, dropout=0.25))\n",
    "#    model.add(LSTM(64, dropout=0.25))                                     \n",
    "#    model.add(Dense(1, activation='sigmoid'))\n",
    "    \n",
    "    # input shape: (seq_len, seq_dim)\n",
    "    inputs      = Input(shape=(train_data.shape[1], seq_dim))\n",
    "    \n",
    "    # single shape: (seq_len, seq_dim) ==> (seq_len, 32)\n",
    "    # batched shape: (n, seq_len, seq_dim) ==> (n, seq_len, 32)\n",
    "    # seq_len is the number of elements in a single sequence fed to the LSTM unit. \n",
    "    # Hence each LSTM unit will be repeated seq_len times.\n",
    "    # In NLP example, the input embedding's shape is (seq_len, vocab_size)\n",
    "    # When return_sequences=False, only the output from the last LSTM unit will be returned.\n",
    "    y           = LSTM(32, \n",
    "                       return_sequences=True, \n",
    "                       dropout=0.25, \n",
    "                       recurrent_dropout=0.25)(inputs)\n",
    "    \n",
    "    # shape: (seq_len, 32) ==> (seq_len, 32)\n",
    "    y           = LSTM(32, \n",
    "                       return_sequences=True, \n",
    "                       dropout=0.5, \n",
    "                       recurrent_dropout=0.25)(y)\n",
    "    \n",
    "    # shape: (seq_len, 32) ==> (seq_len, 32)\n",
    "    y           = LSTM(32, \n",
    "                       return_sequences=True, \n",
    "                       dropout=0.25)(y)\n",
    "    \n",
    "    # shape: (seq_len, 32) ==> (, 64)\n",
    "    # When return_sequences=False, only the output from the last LSTM unit will be returned.\n",
    "    y           = LSTM(64, \n",
    "                       dropout=0.25)(y)\n",
    "    \n",
    "    # shape: (, 64) ==> (, 1)\n",
    "    y           = Dense(1, activation='sigmoid')(y)\n",
    "    \n",
    "    model       = Model(inputs=inputs, outputs=y)\n",
    "    model.compile(loss='binary_crossentropy', \n",
    "                  optimizer='adam', \n",
    "                  metrics=['accuracy'])\n",
    "\n",
    "    return model"
   ]
  },
  {
   "cell_type": "code",
   "execution_count": 64,
   "metadata": {},
   "outputs": [
    {
     "name": "stdout",
     "output_type": "stream",
     "text": [
      "_________________________________________________________________\n",
      "Layer (type)                 Output Shape              Param #   \n",
      "=================================================================\n",
      "input_2 (InputLayer)         (None, 53, 36)            0         \n",
      "_________________________________________________________________\n",
      "lstm_4 (LSTM)                (None, 53, 32)            8832      \n",
      "_________________________________________________________________\n",
      "lstm_5 (LSTM)                (None, 53, 32)            8320      \n",
      "_________________________________________________________________\n",
      "lstm_6 (LSTM)                (None, 53, 32)            8320      \n",
      "_________________________________________________________________\n",
      "lstm_7 (LSTM)                (None, 64)                24832     \n",
      "_________________________________________________________________\n",
      "dense_1 (Dense)              (None, 1)                 65        \n",
      "=================================================================\n",
      "Total params: 50,369\n",
      "Trainable params: 50,369\n",
      "Non-trainable params: 0\n",
      "_________________________________________________________________\n"
     ]
    }
   ],
   "source": [
    "                            # Setup the models\n",
    "model       = createModel() # This is meant for training\n",
    "modelGo     = createModel() # This is used for final testing\n",
    "\n",
    "model.summary()"
   ]
  },
  {
   "cell_type": "code",
   "execution_count": 65,
   "metadata": {},
   "outputs": [],
   "source": [
    "                            # Create checkpoint for the training\n",
    "                            # This checkpoint performs model saving when\n",
    "                            # an epoch gives highest testing accuracy\n",
    "filepath        = modelname + \".hdf5\"\n",
    "checkpoint      = ModelCheckpoint(filepath, \n",
    "                                  monitor='val_acc', \n",
    "                                  verbose=0, \n",
    "                                  save_best_only=True, \n",
    "                                  mode='max')\n",
    "\n",
    "                            # Log the epoch detail into csv\n",
    "csv_logger      = CSVLogger(modelname +'.csv')\n",
    "callbacks_list  = [checkpoint,csv_logger]"
   ]
  },
  {
   "cell_type": "code",
   "execution_count": 14,
   "metadata": {},
   "outputs": [
    {
     "name": "stdout",
     "output_type": "stream",
     "text": [
      "Train on 33800 samples, validate on 4320 samples\n",
      "Epoch 1/40\n",
      "33800/33800 [==============================] - 80s 2ms/step - loss: 0.2610 - acc: 0.9039 - val_loss: 1.0189 - val_acc: 0.7407\n",
      "Epoch 2/40\n",
      "33800/33800 [==============================] - 76s 2ms/step - loss: 0.1184 - acc: 0.9614 - val_loss: 0.8550 - val_acc: 0.7949\n",
      "Epoch 3/40\n",
      "33800/33800 [==============================] - 76s 2ms/step - loss: 0.0930 - acc: 0.9703 - val_loss: 0.8764 - val_acc: 0.8019\n",
      "Epoch 4/40\n",
      "33800/33800 [==============================] - 76s 2ms/step - loss: 0.0808 - acc: 0.9748 - val_loss: 0.7837 - val_acc: 0.8072\n",
      "Epoch 5/40\n",
      "33800/33800 [==============================] - 76s 2ms/step - loss: 0.0740 - acc: 0.9776 - val_loss: 0.8345 - val_acc: 0.8220\n",
      "Epoch 6/40\n",
      "33800/33800 [==============================] - 76s 2ms/step - loss: 0.0658 - acc: 0.9786 - val_loss: 0.6524 - val_acc: 0.8340\n",
      "Epoch 7/40\n",
      "33800/33800 [==============================] - 76s 2ms/step - loss: 0.0598 - acc: 0.9798 - val_loss: 0.5757 - val_acc: 0.8671\n",
      "Epoch 8/40\n",
      "33800/33800 [==============================] - 76s 2ms/step - loss: 0.0509 - acc: 0.9833 - val_loss: 0.6474 - val_acc: 0.8736\n",
      "Epoch 9/40\n",
      "33800/33800 [==============================] - 76s 2ms/step - loss: 0.0452 - acc: 0.9841 - val_loss: 0.4646 - val_acc: 0.8799\n",
      "Epoch 10/40\n",
      "33800/33800 [==============================] - 76s 2ms/step - loss: 0.0391 - acc: 0.9858 - val_loss: 0.6461 - val_acc: 0.8796\n",
      "Epoch 11/40\n",
      "33800/33800 [==============================] - 76s 2ms/step - loss: 0.0381 - acc: 0.9869 - val_loss: 0.8549 - val_acc: 0.8688\n",
      "Epoch 12/40\n",
      "33800/33800 [==============================] - 76s 2ms/step - loss: 0.0323 - acc: 0.9886 - val_loss: 0.7085 - val_acc: 0.8766\n",
      "Epoch 13/40\n",
      "33800/33800 [==============================] - 76s 2ms/step - loss: 0.0312 - acc: 0.9890 - val_loss: 0.7287 - val_acc: 0.8778\n",
      "Epoch 14/40\n",
      "33800/33800 [==============================] - 76s 2ms/step - loss: 0.0277 - acc: 0.9900 - val_loss: 0.6227 - val_acc: 0.8755\n",
      "Epoch 15/40\n",
      "33800/33800 [==============================] - 76s 2ms/step - loss: 0.0252 - acc: 0.9907 - val_loss: 0.8886 - val_acc: 0.8715\n",
      "Epoch 16/40\n",
      "33800/33800 [==============================] - 76s 2ms/step - loss: 0.0256 - acc: 0.9906 - val_loss: 0.7875 - val_acc: 0.8780\n",
      "Epoch 17/40\n",
      "33800/33800 [==============================] - 76s 2ms/step - loss: 0.0245 - acc: 0.9910 - val_loss: 0.8350 - val_acc: 0.8757\n",
      "Epoch 18/40\n",
      "33800/33800 [==============================] - 76s 2ms/step - loss: 0.0195 - acc: 0.9934 - val_loss: 0.7421 - val_acc: 0.8789\n",
      "Epoch 19/40\n",
      "33800/33800 [==============================] - 76s 2ms/step - loss: 0.0206 - acc: 0.9926 - val_loss: 0.7716 - val_acc: 0.8755\n",
      "Epoch 20/40\n",
      "33800/33800 [==============================] - 76s 2ms/step - loss: 0.0203 - acc: 0.9925 - val_loss: 0.9117 - val_acc: 0.8701\n",
      "Epoch 21/40\n",
      "33800/33800 [==============================] - 76s 2ms/step - loss: 0.0180 - acc: 0.9932 - val_loss: 0.7823 - val_acc: 0.8731\n",
      "Epoch 22/40\n",
      "33800/33800 [==============================] - 76s 2ms/step - loss: 0.0175 - acc: 0.9938 - val_loss: 0.8381 - val_acc: 0.8743\n",
      "Epoch 23/40\n",
      "33800/33800 [==============================] - 76s 2ms/step - loss: 0.0160 - acc: 0.9936 - val_loss: 0.7142 - val_acc: 0.8769\n",
      "Epoch 24/40\n",
      "33800/33800 [==============================] - 76s 2ms/step - loss: 0.0160 - acc: 0.9943 - val_loss: 0.8898 - val_acc: 0.8766\n",
      "Epoch 25/40\n",
      "33800/33800 [==============================] - 76s 2ms/step - loss: 0.0138 - acc: 0.9949 - val_loss: 1.1362 - val_acc: 0.8711\n",
      "Epoch 26/40\n",
      "33800/33800 [==============================] - 76s 2ms/step - loss: 0.0162 - acc: 0.9941 - val_loss: 1.0223 - val_acc: 0.8741\n",
      "Epoch 27/40\n",
      "33800/33800 [==============================] - 76s 2ms/step - loss: 0.0157 - acc: 0.9944 - val_loss: 1.0236 - val_acc: 0.8711\n",
      "Epoch 28/40\n",
      "33800/33800 [==============================] - 76s 2ms/step - loss: 0.0134 - acc: 0.9951 - val_loss: 1.0469 - val_acc: 0.8750\n",
      "Epoch 29/40\n",
      "33800/33800 [==============================] - 76s 2ms/step - loss: 0.0130 - acc: 0.9954 - val_loss: 0.6347 - val_acc: 0.8817\n",
      "Epoch 30/40\n",
      "33800/33800 [==============================] - 76s 2ms/step - loss: 0.0125 - acc: 0.9950 - val_loss: 0.9464 - val_acc: 0.8734\n",
      "Epoch 31/40\n",
      "33800/33800 [==============================] - 76s 2ms/step - loss: 0.0139 - acc: 0.9952 - val_loss: 0.6938 - val_acc: 0.8782\n",
      "Epoch 32/40\n",
      "33800/33800 [==============================] - 76s 2ms/step - loss: 0.0130 - acc: 0.9949 - val_loss: 1.0046 - val_acc: 0.8769\n",
      "Epoch 33/40\n",
      "33800/33800 [==============================] - 76s 2ms/step - loss: 0.0113 - acc: 0.9956 - val_loss: 0.9106 - val_acc: 0.8789\n",
      "Epoch 34/40\n",
      "33800/33800 [==============================] - 76s 2ms/step - loss: 0.0100 - acc: 0.9962 - val_loss: 0.9835 - val_acc: 0.8706\n",
      "Epoch 35/40\n",
      "33800/33800 [==============================] - 76s 2ms/step - loss: 0.0111 - acc: 0.9962 - val_loss: 0.9922 - val_acc: 0.8803\n",
      "Epoch 36/40\n",
      "33800/33800 [==============================] - 76s 2ms/step - loss: 0.0119 - acc: 0.9962 - val_loss: 0.9981 - val_acc: 0.8748\n",
      "Epoch 37/40\n",
      "33800/33800 [==============================] - 76s 2ms/step - loss: 0.0089 - acc: 0.9972 - val_loss: 0.9827 - val_acc: 0.8764\n",
      "Epoch 38/40\n",
      "33800/33800 [==============================] - 76s 2ms/step - loss: 0.0118 - acc: 0.9958 - val_loss: 1.0389 - val_acc: 0.8762\n",
      "Epoch 39/40\n",
      "33800/33800 [==============================] - 76s 2ms/step - loss: 0.0103 - acc: 0.9964 - val_loss: 0.9947 - val_acc: 0.8759\n",
      "Epoch 40/40\n",
      "33800/33800 [==============================] - 76s 2ms/step - loss: 0.0113 - acc: 0.9959 - val_loss: 0.9742 - val_acc: 0.8743\n"
     ]
    },
    {
     "data": {
      "text/plain": [
       "<tensorflow.python.keras.callbacks.History at 0x1db716b5860>"
      ]
     },
     "execution_count": 14,
     "metadata": {},
     "output_type": "execute_result"
    }
   ],
   "source": [
    "\n",
    "                            # Fit the model\n",
    "                            # This is where the training starts\n",
    "model.fit(train_data, \n",
    "          train_labels, \n",
    "          validation_data=(test_data, test_labels), \n",
    "          epochs=40, \n",
    "          batch_size=128,\n",
    "          shuffle=True,\n",
    "          callbacks=callbacks_list)"
   ]
  },
  {
   "cell_type": "code",
   "execution_count": 74,
   "metadata": {},
   "outputs": [],
   "source": [
    "\n",
    "                            # Now the training is complete, we get\n",
    "                            # another object to load the weights\n",
    "                            # compile it, so that we can do \n",
    "                            # final evaluation on it\n",
    "modelGo     = createModel()\n",
    "modelGo.load_weights(filepath)\n",
    "modelGo.compile(loss='binary_crossentropy', \n",
    "                optimizer='adam', \n",
    "                metrics=['accuracy'])"
   ]
  },
  {
   "cell_type": "code",
   "execution_count": 77,
   "metadata": {},
   "outputs": [
    {
     "name": "stdout",
     "output_type": "stream",
     "text": [
      "Best accuracy (on testing dataset): 88.17%\n",
      "              precision    recall  f1-score   support\n",
      "\n",
      "      Normal     0.8778    0.9762    0.9244      3200\n",
      "         CAD     0.9001    0.6116    0.7283      1120\n",
      "\n",
      "    accuracy                         0.8817      4320\n",
      "   macro avg     0.8890    0.7939    0.8264      4320\n",
      "weighted avg     0.8836    0.8817    0.8736      4320\n",
      "\n",
      "[[3124   76]\n",
      " [ 435  685]]\n"
     ]
    }
   ],
   "source": [
    "                            # Make classification on the test dataset\n",
    "predicts    = modelGo.predict(test_data)\n",
    "\n",
    "predicts = [1.0 if prob > 0.5 else 0.0 for prob in predicts]\n",
    "\n",
    "labelname   = ['Normal','CAD']\n",
    "                                            # the labels for the classfication report\n",
    "\n",
    "\n",
    "testScores  = metrics.accuracy_score(test_labels, predicts)\n",
    "confusion   = metrics.confusion_matrix(test_labels, predicts)\n",
    "\n",
    "\n",
    "print(\"Best accuracy (on testing dataset): %.2f%%\" % (testScores*100))\n",
    "print(metrics.classification_report(test_labels, predicts, target_names=labelname, digits=4))\n",
    "print(confusion)"
   ]
  },
  {
   "cell_type": "code",
   "execution_count": 78,
   "metadata": {},
   "outputs": [
    {
     "data": {
      "image/png": "[encoded data removed]",
      "text/plain": [
       "<Figure size 432x288 with 2 Axes>"
      ]
     },
     "metadata": {},
     "output_type": "display_data"
    }
   ],
   "source": [
    "import pandas as pd\n",
    "\n",
    "records     = pd.read_csv(modelname +'.csv')\n",
    "plt.figure()\n",
    "plt.subplot(211)\n",
    "plt.plot(records['val_loss'])\n",
    "plt.plot(records['loss'])\n",
    "plt.yticks([0.00,0.40,0.60,0.80])\n",
    "plt.title('Loss value',fontsize=12)\n",
    "\n",
    "ax          = plt.gca()\n",
    "ax.set_xticklabels([])\n",
    "\n",
    "\n",
    "\n",
    "plt.subplot(212)\n",
    "plt.plot(records['val_acc'])\n",
    "plt.plot(records['acc'])\n",
    "plt.yticks([0.6,0.7,0.8,0.9])\n",
    "plt.title('Accuracy',fontsize=12)\n",
    "plt.show()"
   ]
  },
  {
   "cell_type": "code",
   "execution_count": 80,
   "metadata": {},
   "outputs": [],
   "source": [
    "from tensorflow.keras.utils import plot_model\n",
    "\n",
    "plot_model(model, \n",
    "           to_file=modelname+'_LSTM_model.pdf', \n",
    "           show_shapes=True, \n",
    "           show_layer_names=False,\n",
    "           rankdir='TB')"
   ]
  },
  {
   "cell_type": "code",
   "execution_count": null,
   "metadata": {},
   "outputs": [],
   "source": []
  }
 ],
 "metadata": {
  "kernelspec": {
   "display_name": "Python 3",
   "language": "python",
   "name": "python3"
  },
  "language_info": {
   "codemirror_mode": {
    "name": "ipython",
    "version": 3
   },
   "file_extension": ".py",
   "mimetype": "text/x-python",
   "name": "python",
   "nbconvert_exporter": "python",
   "pygments_lexer": "ipython3",
   "version": "3.6.9"
  }
 },
 "nbformat": 4,
 "nbformat_minor": 2
}
