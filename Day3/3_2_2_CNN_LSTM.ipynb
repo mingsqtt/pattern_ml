{
 "cells": [
  {
   "cell_type": "code",
   "execution_count": 1,
   "metadata": {},
   "outputs": [
    {
     "name": "stderr",
     "output_type": "stream",
     "text": [
      "d:\\apps\\Anaconda3\\envs\\keras-cv\\lib\\site-packages\\tensorflow\\python\\framework\\dtypes.py:523: FutureWarning: Passing (type, 1) or '1type' as a synonym of type is deprecated; in a future version of numpy, it will be understood as (type, (1,)) / '(1,)type'.\n",
      "  _np_qint8 = np.dtype([(\"qint8\", np.int8, 1)])\n",
      "d:\\apps\\Anaconda3\\envs\\keras-cv\\lib\\site-packages\\tensorflow\\python\\framework\\dtypes.py:524: FutureWarning: Passing (type, 1) or '1type' as a synonym of type is deprecated; in a future version of numpy, it will be understood as (type, (1,)) / '(1,)type'.\n",
      "  _np_quint8 = np.dtype([(\"quint8\", np.uint8, 1)])\n",
      "d:\\apps\\Anaconda3\\envs\\keras-cv\\lib\\site-packages\\tensorflow\\python\\framework\\dtypes.py:525: FutureWarning: Passing (type, 1) or '1type' as a synonym of type is deprecated; in a future version of numpy, it will be understood as (type, (1,)) / '(1,)type'.\n",
      "  _np_qint16 = np.dtype([(\"qint16\", np.int16, 1)])\n",
      "d:\\apps\\Anaconda3\\envs\\keras-cv\\lib\\site-packages\\tensorflow\\python\\framework\\dtypes.py:526: FutureWarning: Passing (type, 1) or '1type' as a synonym of type is deprecated; in a future version of numpy, it will be understood as (type, (1,)) / '(1,)type'.\n",
      "  _np_quint16 = np.dtype([(\"quint16\", np.uint16, 1)])\n",
      "d:\\apps\\Anaconda3\\envs\\keras-cv\\lib\\site-packages\\tensorflow\\python\\framework\\dtypes.py:527: FutureWarning: Passing (type, 1) or '1type' as a synonym of type is deprecated; in a future version of numpy, it will be understood as (type, (1,)) / '(1,)type'.\n",
      "  _np_qint32 = np.dtype([(\"qint32\", np.int32, 1)])\n",
      "d:\\apps\\Anaconda3\\envs\\keras-cv\\lib\\site-packages\\tensorflow\\python\\framework\\dtypes.py:532: FutureWarning: Passing (type, 1) or '1type' as a synonym of type is deprecated; in a future version of numpy, it will be understood as (type, (1,)) / '(1,)type'.\n",
      "  np_resource = np.dtype([(\"resource\", np.ubyte, 1)])\n"
     ]
    }
   ],
   "source": [
    "import h5py\n",
    "import numpy as np\n",
    "import sklearn.metrics as metrics\n",
    "import matplotlib.pyplot as plt\n",
    "\n",
    "import os\n",
    "\n",
    "from tensorflow.keras.callbacks import ModelCheckpoint,CSVLogger\n",
    "from tensorflow.keras.models import Model\n",
    "from tensorflow.keras.layers import Conv1D\n",
    "from tensorflow.keras.layers import Input\n",
    "from tensorflow.keras.layers import LSTM\n",
    "from tensorflow.keras.layers import Dropout\n",
    "from tensorflow.keras.layers import MaxPooling1D\n",
    "from tensorflow.keras.layers import Dense"
   ]
  },
  {
   "cell_type": "code",
   "execution_count": 2,
   "metadata": {},
   "outputs": [],
   "source": [
    "                            # Set up 'ggplot' style\n",
    "plt.style.use('ggplot')     # if want to use the default style, set 'classic'\n",
    "plt.rcParams['ytick.right']     = True\n",
    "plt.rcParams['ytick.labelright']= True\n",
    "plt.rcParams['ytick.left']      = False\n",
    "plt.rcParams['ytick.labelleft'] = False\n",
    "plt.rcParams['font.family']     = 'Arial'"
   ]
  },
  {
   "cell_type": "code",
   "execution_count": 6,
   "metadata": {},
   "outputs": [],
   "source": [
    "# Retrieve data  --------------------------------------------------------------\n",
    "#\n",
    "#\n",
    "#\n",
    "\n",
    "os.chdir(\"D:/projects/pattern_ml/Day3\")\n",
    "\n",
    "seed = 7\n",
    "np.random.seed(seed)\n",
    "\n",
    "f                   = h5py.File('data/cad5sec.mat')"
   ]
  },
  {
   "cell_type": "code",
   "execution_count": 7,
   "metadata": {},
   "outputs": [],
   "source": [
    "X = f[\"data\"]       # shape: (1285, 38120)\n",
    "Y = f[\"classLabel\"] # shape: (1, 38120)"
   ]
  },
  {
   "cell_type": "code",
   "execution_count": 8,
   "metadata": {},
   "outputs": [
    {
     "name": "stdout",
     "output_type": "stream",
     "text": [
      "(38120, 1285)\n"
     ]
    }
   ],
   "source": [
    "inputs = np.array(X).transpose()  # shape: (38120, 1285)\n",
    "labels = np.array(Y).transpose()   # shape: (38120, 1)\n",
    "print(inputs.shape)"
   ]
  },
  {
   "cell_type": "code",
   "execution_count": 9,
   "metadata": {},
   "outputs": [
    {
     "name": "stdout",
     "output_type": "stream",
     "text": [
      "(32000, 1285)\n",
      "(6120, 1285)\n"
     ]
    }
   ],
   "source": [
    "nor = inputs[Y[0] == 0.0]\n",
    "cad = inputs[Y[0] == 1.0]\n",
    "print(nor.shape)\n",
    "print(cad.shape)"
   ]
  },
  {
   "cell_type": "code",
   "execution_count": 10,
   "metadata": {},
   "outputs": [],
   "source": [
    "# stepzation function ---------------------------------------------------------\n",
    "#\n",
    "#\n",
    "# This function creates segmenets of a 1D signal\n",
    "# It works in batch\n",
    "#\n",
    "#\n",
    "# Dependency:       numpy\n",
    "\n",
    "def makeSteps(dat, length, dist):\n",
    "    width           = dat.shape[1]\n",
    "    numOfSteps      = int(np.floor((width-length)/dist)+1)\n",
    "    \n",
    "                                        # Initialize the output\n",
    "    segments        = np.zeros([dat.shape[0],numOfSteps,length],\n",
    "                               dtype=dat.dtype)\n",
    "    \n",
    "    for l in range(numOfSteps):\n",
    "        segments[:,l,:]     = dat[:,(l*dist):(l*dist+length)]\n",
    "        \n",
    "    return segments"
   ]
  },
  {
   "cell_type": "code",
   "execution_count": 11,
   "metadata": {},
   "outputs": [
    {
     "name": "stdout",
     "output_type": "stream",
     "text": [
      "Create dataset (1D signal data)...\n"
     ]
    }
   ],
   "source": [
    "# Splitting data into training and testing set---------------------------------\n",
    "#\n",
    "#\n",
    "#\n",
    "\n",
    "print('Create dataset (1D signal data)...')\n",
    "train_nor = nor[0:28800].copy()\n",
    "test_nor = nor[28800:32000].copy()\n",
    "train_cad = cad[0:5000].copy()\n",
    "test_cad = cad[5000:6120].copy()"
   ]
  },
  {
   "cell_type": "code",
   "execution_count": 15,
   "metadata": {},
   "outputs": [
    {
     "name": "stdout",
     "output_type": "stream",
     "text": [
      "Finalizing all the data ....\n"
     ]
    }
   ],
   "source": [
    "# Create segments from the signals --------------------------------------------\n",
    "#\n",
    "#\n",
    "#\n",
    "\n",
    "seq_dim = 24\n",
    "stride = 6\n",
    "\n",
    "print('Finalizing all the data ....')\n",
    "train_nor_seqs = makeSteps(train_nor, seq_dim, stride)\n",
    "test_nor_seqs = makeSteps(test_nor, seq_dim, stride)\n",
    "train_cad_seqs = makeSteps(train_cad, seq_dim, stride)\n",
    "test_cad_seqs = makeSteps(test_cad, seq_dim, stride)\n",
    "\n",
    "train_data = np.vstack([train_nor_seqs,train_cad_seqs])\n",
    "test_data = np.vstack([test_nor_seqs,test_cad_seqs])\n",
    "\n",
    "train_labels = np.vstack([np.zeros([train_nor_seqs.shape[0],1]), np.ones([train_cad_seqs.shape[0],1])])\n",
    "test_labels = np.vstack([np.zeros([test_nor_seqs.shape[0],1]), np.ones([test_cad_seqs.shape[0],1])])"
   ]
  },
  {
   "cell_type": "code",
   "execution_count": 16,
   "metadata": {},
   "outputs": [
    {
     "data": {
      "text/plain": [
       "(33800, 211, 24)"
      ]
     },
     "execution_count": 16,
     "metadata": {},
     "output_type": "execute_result"
    }
   ],
   "source": [
    "train_data.shape  # (n_sample, seq_len, seq_dim)"
   ]
  },
  {
   "cell_type": "code",
   "execution_count": 18,
   "metadata": {},
   "outputs": [
    {
     "name": "stdout",
     "output_type": "stream",
     "text": [
      "Creating lstm model...\n",
      "_________________________________________________________________\n",
      "Layer (type)                 Output Shape              Param #   \n",
      "=================================================================\n",
      "input_3 (InputLayer)         (None, 211, 24)           0         \n",
      "_________________________________________________________________\n",
      "conv1d_12 (Conv1D)           (None, 207, 32)           3872      \n",
      "_________________________________________________________________\n",
      "dropout_6 (Dropout)          (None, 207, 32)           0         \n",
      "_________________________________________________________________\n",
      "conv1d_13 (Conv1D)           (None, 203, 32)           5152      \n",
      "_________________________________________________________________\n",
      "max_pooling1d_6 (MaxPooling1 (None, 101, 32)           0         \n",
      "_________________________________________________________________\n",
      "conv1d_14 (Conv1D)           (None, 97, 48)            7728      \n",
      "_________________________________________________________________\n",
      "dropout_7 (Dropout)          (None, 97, 48)            0         \n",
      "_________________________________________________________________\n",
      "conv1d_15 (Conv1D)           (None, 93, 48)            11568     \n",
      "_________________________________________________________________\n",
      "max_pooling1d_7 (MaxPooling1 (None, 46, 48)            0         \n",
      "_________________________________________________________________\n",
      "conv1d_16 (Conv1D)           (None, 42, 64)            15424     \n",
      "_________________________________________________________________\n",
      "dropout_8 (Dropout)          (None, 42, 64)            0         \n",
      "_________________________________________________________________\n",
      "conv1d_17 (Conv1D)           (None, 38, 64)            20544     \n",
      "_________________________________________________________________\n",
      "max_pooling1d_8 (MaxPooling1 (None, 19, 64)            0         \n",
      "_________________________________________________________________\n",
      "lstm_6 (LSTM)                (None, 19, 8)             2336      \n",
      "_________________________________________________________________\n",
      "lstm_7 (LSTM)                (None, 19, 4)             208       \n",
      "_________________________________________________________________\n",
      "lstm_8 (LSTM)                (None, 2)                 56        \n",
      "_________________________________________________________________\n",
      "dense_2 (Dense)              (None, 1)                 3         \n",
      "=================================================================\n",
      "Total params: 66,891\n",
      "Trainable params: 66,891\n",
      "Non-trainable params: 0\n",
      "_________________________________________________________________\n"
     ]
    }
   ],
   "source": [
    "# Creating model --------------------------------------------------------------\n",
    "#\n",
    "#\n",
    "#\n",
    "\n",
    "\n",
    "print('Creating lstm model...')\n",
    "\n",
    "modelname   = 'wks3_2_2'\n",
    "\n",
    "def createModel():    \n",
    "#    model          = Sequential()\n",
    "#    model.add(Conv1D(32, 5, activation='relu', input_shape=(trDat.shape[1], length)))\n",
    "#    model.add(Dropout(0.25))\n",
    "#    model.add(Conv1D(32, 5, activation='relu'))\n",
    "#    model.add(MaxPooling1D(2))\n",
    "#    model.add(Conv1D(48, 5, activation='relu'))\n",
    "#    model.add(Dropout(0.5))\n",
    "#    model.add(Conv1D(48, 5, activation='relu'))\n",
    "#    model.add(MaxPooling1D(2))\n",
    "#    model.add(Conv1D(64, 5, activation='relu'))\n",
    "#    model.add(Dropout(0.5))\n",
    "#    model.add(Conv1D(64, 5, activation='relu'))\n",
    "#    model.add(MaxPooling1D(2))\n",
    "#    model.add(LSTM(8,\n",
    "#                   return_sequences=True, \n",
    "#                   dropout=0.5, \n",
    "#                   recurrent_dropout=0.5)) \n",
    "#    model.add(LSTM(4, return_sequences=True, dropout=0.5, recurrent_dropout=0.5))             \n",
    "#    model.add(LSTM(2))                                \n",
    "#    model.add(Dense(1, activation='sigmoid'))\n",
    "    \n",
    "    \n",
    "    # input shape: (seq_len, seq_dim)\n",
    "    inputs      = Input(shape=(train_data.shape[1], seq_dim))\n",
    "    \n",
    "    # shape: (seq_len, seq_dim) ==> (seq_len-(5-1), 32)\n",
    "    y           = Conv1D(32, 5, activation='relu')(inputs)\n",
    "    y           = Dropout(0.25)(y)\n",
    "    \n",
    "    # shape: (seq_len-(5-1), 32) ==> (seq_len-2*(5-1), 32)\n",
    "    y           = Conv1D(32, 5, activation='relu')(y)\n",
    "    \n",
    "    # shape: (seq_len-2*(5-1), 32) ==> ([seq_len-2*(5-1)]/2, 32)\n",
    "    y           = MaxPooling1D(2)(y)\n",
    "    \n",
    "    # shape: (???, 32) ==> ((???, 48)\n",
    "    y           = Conv1D(48, 5, activation='relu')(y)\n",
    "    y           = Dropout(0.5)(y)\n",
    "    \n",
    "    # shape: ((???, 48) ==> ((???, 48)\n",
    "    y           = Conv1D(48, 5, activation='relu')(y)\n",
    "    y           = MaxPooling1D(2)(y)\n",
    "    \n",
    "    # shape: ((???, 48) ==> ((???, 64)\n",
    "    y           = Conv1D(64, 5, activation='relu')(y)\n",
    "    y           = Dropout(0.5)(y)\n",
    "    \n",
    "    # shape: ((???, 64) ==> ((???, 64)\n",
    "    y           = Conv1D(64, 5, activation='relu')(y)\n",
    "    y           = MaxPooling1D(2)(y)\n",
    "    \n",
    "    # shape: ((???, 64) ==> ((???, 8)\n",
    "    y           = LSTM(8, \n",
    "                       return_sequences=True, \n",
    "                       dropout=0.5, \n",
    "                       recurrent_dropout=0.5)(y)\n",
    "    \n",
    "    # shape: ((???, 8) ==> ((???, 4)\n",
    "    y           = LSTM(4, \n",
    "                       return_sequences=True, \n",
    "                       dropout=0.5, \n",
    "                       recurrent_dropout=0.5)(y)\n",
    "    \n",
    "    # shape: ((???, 4) ==> (, 2)\n",
    "    y           = LSTM(2)(y)\n",
    "    \n",
    "    # shape: (, 2) ==> (, 1)\n",
    "    y           = Dense(1, activation='sigmoid')(y)\n",
    "    \n",
    "    model       = Model(inputs=inputs,outputs=y)\n",
    "    \n",
    "    model.compile(loss='binary_crossentropy', \n",
    "                  optimizer='adam', \n",
    "                  metrics=['accuracy'])\n",
    "\n",
    "    return model\n",
    "\n",
    "\n",
    "\n",
    "\n",
    "\n",
    "                            # Setup the models\n",
    "model       = createModel() # This is meant for training\n",
    "modelGo     = createModel() # This is used for final testing\n",
    "\n",
    "model.summary()"
   ]
  },
  {
   "cell_type": "code",
   "execution_count": 19,
   "metadata": {},
   "outputs": [],
   "source": [
    "                            # Create checkpoint for the training\n",
    "                            # This checkpoint performs model saving when\n",
    "                            # an epoch gives highest testing accuracy\n",
    "filepath        = modelname + \".hdf5\"\n",
    "checkpoint      = ModelCheckpoint(filepath, \n",
    "                                  monitor='val_acc', \n",
    "                                  verbose=0, \n",
    "                                  save_best_only=True, \n",
    "                                  mode='max')\n",
    "\n",
    "                            # Log the epoch detail into csv\n",
    "csv_logger      = CSVLogger(modelname +'.csv')\n",
    "callbacks_list  = [checkpoint,csv_logger]"
   ]
  },
  {
   "cell_type": "code",
   "execution_count": 20,
   "metadata": {},
   "outputs": [
    {
     "name": "stdout",
     "output_type": "stream",
     "text": [
      "Train on 33800 samples, validate on 4320 samples\n",
      "Epoch 1/40\n",
      "33800/33800 [==============================] - 30s 898us/step - loss: 0.5518 - acc: 0.8434 - val_loss: 0.5727 - val_acc: 0.7407\n",
      "Epoch 2/40\n",
      "33800/33800 [==============================] - 23s 693us/step - loss: 0.4381 - acc: 0.8520 - val_loss: 0.5899 - val_acc: 0.7407\n",
      "Epoch 3/40\n",
      "33800/33800 [==============================] - 23s 695us/step - loss: 0.4211 - acc: 0.8520 - val_loss: 0.6054 - val_acc: 0.7407\n",
      "Epoch 4/40\n",
      "33800/33800 [==============================] - 23s 692us/step - loss: 0.4193 - acc: 0.8521 - val_loss: 0.6123 - val_acc: 0.7407\n",
      "Epoch 5/40\n",
      "33800/33800 [==============================] - 23s 692us/step - loss: 0.4192 - acc: 0.8520 - val_loss: 0.6132 - val_acc: 0.7407\n",
      "Epoch 6/40\n",
      "33800/33800 [==============================] - 23s 693us/step - loss: 0.4192 - acc: 0.8521 - val_loss: 0.6136 - val_acc: 0.7407\n",
      "Epoch 7/40\n",
      "33800/33800 [==============================] - 24s 697us/step - loss: 0.4193 - acc: 0.8521 - val_loss: 0.6130 - val_acc: 0.7407\n",
      "Epoch 8/40\n",
      "33800/33800 [==============================] - 24s 702us/step - loss: 0.2719 - acc: 0.9204 - val_loss: 0.4136 - val_acc: 0.8676\n",
      "Epoch 9/40\n",
      "33800/33800 [==============================] - 24s 696us/step - loss: 0.1298 - acc: 0.9781 - val_loss: 0.4257 - val_acc: 0.8657\n",
      "Epoch 10/40\n",
      "33800/33800 [==============================] - 23s 695us/step - loss: 0.0945 - acc: 0.9817 - val_loss: 0.4111 - val_acc: 0.8794\n",
      "Epoch 11/40\n",
      "33800/33800 [==============================] - 24s 698us/step - loss: 0.0818 - acc: 0.9823 - val_loss: 0.4296 - val_acc: 0.8803\n",
      "Epoch 12/40\n",
      "33800/33800 [==============================] - 23s 695us/step - loss: 0.0610 - acc: 0.9872 - val_loss: 0.4418 - val_acc: 0.8794\n",
      "Epoch 13/40\n",
      "33800/33800 [==============================] - 24s 700us/step - loss: 0.0495 - acc: 0.9894 - val_loss: 0.4894 - val_acc: 0.8563\n",
      "Epoch 14/40\n",
      "33800/33800 [==============================] - 24s 698us/step - loss: 0.0459 - acc: 0.9898 - val_loss: 0.4720 - val_acc: 0.8831\n",
      "Epoch 15/40\n",
      "33800/33800 [==============================] - 23s 693us/step - loss: 0.0340 - acc: 0.9935 - val_loss: 0.5060 - val_acc: 0.8769\n",
      "Epoch 16/40\n",
      "33800/33800 [==============================] - 23s 695us/step - loss: 0.0317 - acc: 0.9932 - val_loss: 0.4962 - val_acc: 0.8819\n",
      "Epoch 17/40\n",
      "33800/33800 [==============================] - 23s 694us/step - loss: 0.0268 - acc: 0.9939 - val_loss: 0.5686 - val_acc: 0.8708\n",
      "Epoch 18/40\n",
      "33800/33800 [==============================] - 24s 696us/step - loss: 0.0233 - acc: 0.9949 - val_loss: 0.4066 - val_acc: 0.9009\n",
      "Epoch 19/40\n",
      "33800/33800 [==============================] - 24s 697us/step - loss: 0.0207 - acc: 0.9956 - val_loss: 0.5200 - val_acc: 0.8896\n",
      "Epoch 20/40\n",
      "33800/33800 [==============================] - 24s 695us/step - loss: 0.0200 - acc: 0.9953 - val_loss: 0.5941 - val_acc: 0.8771\n",
      "Epoch 21/40\n",
      "33800/33800 [==============================] - 23s 694us/step - loss: 0.0165 - acc: 0.9964 - val_loss: 0.6558 - val_acc: 0.8727\n",
      "Epoch 22/40\n",
      "33800/33800 [==============================] - 23s 691us/step - loss: 0.0152 - acc: 0.9963 - val_loss: 0.6075 - val_acc: 0.8813\n",
      "Epoch 23/40\n",
      "33800/33800 [==============================] - 23s 693us/step - loss: 0.0159 - acc: 0.9960 - val_loss: 0.0450 - val_acc: 0.9891\n",
      "Epoch 24/40\n",
      "33800/33800 [==============================] - 23s 691us/step - loss: 0.0135 - acc: 0.9969 - val_loss: 0.7478 - val_acc: 0.8606\n",
      "Epoch 25/40\n",
      "33800/33800 [==============================] - 23s 694us/step - loss: 0.0147 - acc: 0.9964 - val_loss: 0.6370 - val_acc: 0.8794\n",
      "Epoch 26/40\n",
      "33800/33800 [==============================] - 23s 695us/step - loss: 0.0102 - acc: 0.9975 - val_loss: 0.6562 - val_acc: 0.8806\n",
      "Epoch 27/40\n",
      "33800/33800 [==============================] - 23s 693us/step - loss: 0.0100 - acc: 0.9972 - val_loss: 0.7558 - val_acc: 0.8394\n",
      "Epoch 28/40\n",
      "33800/33800 [==============================] - 24s 697us/step - loss: 0.0110 - acc: 0.9970 - val_loss: 0.6325 - val_acc: 0.8801\n",
      "Epoch 29/40\n",
      "33800/33800 [==============================] - 23s 693us/step - loss: 0.0093 - acc: 0.9974 - val_loss: 0.6371 - val_acc: 0.8817\n",
      "Epoch 30/40\n",
      "33800/33800 [==============================] - 24s 696us/step - loss: 0.0080 - acc: 0.9976 - val_loss: 0.4853 - val_acc: 0.8933\n",
      "Epoch 31/40\n",
      "33800/33800 [==============================] - 24s 697us/step - loss: 0.0105 - acc: 0.9969 - val_loss: 0.7235 - val_acc: 0.8491\n",
      "Epoch 32/40\n",
      "33800/33800 [==============================] - 23s 694us/step - loss: 0.0065 - acc: 0.9982 - val_loss: 0.8631 - val_acc: 0.8692\n",
      "Epoch 33/40\n",
      "33800/33800 [==============================] - 23s 691us/step - loss: 0.0083 - acc: 0.9975 - val_loss: 0.6433 - val_acc: 0.8785\n",
      "Epoch 34/40\n",
      "33800/33800 [==============================] - 23s 695us/step - loss: 0.0062 - acc: 0.9983 - val_loss: 0.6963 - val_acc: 0.8782\n",
      "Epoch 35/40\n",
      "33800/33800 [==============================] - 23s 692us/step - loss: 0.0059 - acc: 0.9984 - val_loss: 0.2448 - val_acc: 0.9255\n",
      "Epoch 36/40\n",
      "33800/33800 [==============================] - 23s 692us/step - loss: 0.0084 - acc: 0.9977 - val_loss: 0.6692 - val_acc: 0.8847\n",
      "Epoch 37/40\n",
      "33800/33800 [==============================] - 23s 693us/step - loss: 0.0067 - acc: 0.9982 - val_loss: 0.8495 - val_acc: 0.8743\n",
      "Epoch 38/40\n",
      "33800/33800 [==============================] - 24s 696us/step - loss: 0.0054 - acc: 0.9982 - val_loss: 0.8291 - val_acc: 0.8662\n",
      "Epoch 39/40\n",
      "33800/33800 [==============================] - 23s 693us/step - loss: 0.0056 - acc: 0.9983 - val_loss: 0.7341 - val_acc: 0.8819\n",
      "Epoch 40/40\n",
      "33800/33800 [==============================] - 23s 695us/step - loss: 0.0043 - acc: 0.9987 - val_loss: 0.8653 - val_acc: 0.8762\n"
     ]
    },
    {
     "data": {
      "text/plain": [
       "<tensorflow.python.keras.callbacks.History at 0x21ba1f5db00>"
      ]
     },
     "execution_count": 20,
     "metadata": {},
     "output_type": "execute_result"
    }
   ],
   "source": [
    "\n",
    "                            # Fit the model\n",
    "                            # This is where the training starts\n",
    "model.fit(train_data, \n",
    "          train_labels, \n",
    "          validation_data=(test_data, test_labels), \n",
    "          epochs=40, \n",
    "          batch_size=128,\n",
    "          shuffle=True,\n",
    "          callbacks=callbacks_list)"
   ]
  },
  {
   "cell_type": "code",
   "execution_count": 10,
   "metadata": {},
   "outputs": [],
   "source": [
    "\n",
    "                            # Now the training is complete, we get\n",
    "                            # another object to load the weights\n",
    "                            # compile it, so that we can do \n",
    "                            # final evaluation on it\n",
    "modelGo.load_weights(filepath)\n",
    "modelGo.compile(loss='binary_crossentropy', \n",
    "                optimizer='adam', \n",
    "                metrics=['accuracy'])"
   ]
  },
  {
   "cell_type": "code",
   "execution_count": 11,
   "metadata": {},
   "outputs": [
    {
     "name": "stdout",
     "output_type": "stream",
     "text": [
      "Best accuracy (on testing dataset): 95.62%\n",
      "              precision    recall  f1-score   support\n",
      "\n",
      "      Normal     0.9967    0.9441    0.9697      3200\n",
      "         CAD     0.8611    0.9911    0.9215      1120\n",
      "\n",
      "    accuracy                         0.9563      4320\n",
      "   macro avg     0.9289    0.9676    0.9456      4320\n",
      "weighted avg     0.9616    0.9563    0.9572      4320\n",
      "\n",
      "[[3021  179]\n",
      " [  10 1110]]\n"
     ]
    }
   ],
   "source": [
    "                            # Make classification on the test dataset\n",
    "predicts    = modelGo.predict(test_data)\n",
    "\n",
    "predicts = [1.0 if prob > 0.5 else 0.0 for prob in predicts]\n",
    "\n",
    "labelname   = ['Normal','CAD']\n",
    "                                            # the labels for the classfication report\n",
    "\n",
    "\n",
    "testScores  = metrics.accuracy_score(test_labels, predicts)\n",
    "confusion   = metrics.confusion_matrix(test_labels, predicts)\n",
    "\n",
    "\n",
    "print(\"Best accuracy (on testing dataset): %.2f%%\" % (testScores*100))\n",
    "print(metrics.classification_report(test_labels, predicts, target_names=labelname, digits=4))\n",
    "print(confusion)"
   ]
  },
  {
   "cell_type": "code",
   "execution_count": 12,
   "metadata": {},
   "outputs": [
    {
     "data": {
      "image/png": "[encoded data removed]",
      "text/plain": [
       "<Figure size 432x288 with 2 Axes>"
      ]
     },
     "metadata": {},
     "output_type": "display_data"
    }
   ],
   "source": [
    "import pandas as pd\n",
    "\n",
    "records     = pd.read_csv(modelname +'.csv')\n",
    "plt.figure()\n",
    "plt.subplot(211)\n",
    "plt.plot(records['val_loss'])\n",
    "plt.plot(records['loss'])\n",
    "plt.yticks([0.00,0.40,0.60,0.80])\n",
    "plt.title('Loss value',fontsize=12)\n",
    "\n",
    "ax          = plt.gca()\n",
    "ax.set_xticklabels([])\n",
    "\n",
    "\n",
    "\n",
    "plt.subplot(212)\n",
    "plt.plot(records['val_acc'])\n",
    "plt.plot(records['acc'])\n",
    "plt.yticks([0.6,0.7,0.8,0.9])\n",
    "plt.title('Accuracy',fontsize=12)\n",
    "plt.show()"
   ]
  },
  {
   "cell_type": "code",
   "execution_count": 13,
   "metadata": {},
   "outputs": [],
   "source": [
    "from tensorflow.keras.utils import plot_model\n",
    "\n",
    "plot_model(model, \n",
    "           to_file=modelname+'_CNN_LSTM_model.pdf', \n",
    "           show_shapes=True, \n",
    "           show_layer_names=False,\n",
    "           rankdir='TB')"
   ]
  }
 ],
 "metadata": {
  "kernelspec": {
   "display_name": "Python 3",
   "language": "python",
   "name": "python3"
  },
  "language_info": {
   "codemirror_mode": {
    "name": "ipython",
    "version": 3
   },
   "file_extension": ".py",
   "mimetype": "text/x-python",
   "name": "python",
   "nbconvert_exporter": "python",
   "pygments_lexer": "ipython3",
   "version": "3.6.9"
  }
 },
 "nbformat": 4,
 "nbformat_minor": 2
}
